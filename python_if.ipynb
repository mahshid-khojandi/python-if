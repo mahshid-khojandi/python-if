{
  "nbformat": 4,
  "nbformat_minor": 0,
  "metadata": {
    "colab": {
      "provenance": [],
      "authorship_tag": "ABX9TyN9YJSL5aqBYsvua0YuLJvX",
      "include_colab_link": true
    },
    "kernelspec": {
      "name": "python3",
      "display_name": "Python 3"
    },
    "language_info": {
      "name": "python"
    }
  },
  "cells": [
    {
      "cell_type": "markdown",
      "metadata": {
        "id": "view-in-github",
        "colab_type": "text"
      },
      "source": [
        "<a href=\"https://colab.research.google.com/github/mahshid-khojandi/python-if/blob/main/python_if.ipynb\" target=\"_parent\"><img src=\"https://colab.research.google.com/assets/colab-badge.svg\" alt=\"Open In Colab\"/></a>"
      ]
    },
    {
      "cell_type": "markdown",
      "source": [
        "The if statement in Python is used to make decisions\n",
        "\n",
        "If a specified condition is True, the statements inside the if block are executed, otherwise, the statements inside the if block are not executed.\n",
        "\n",
        "The syntax of the if command:\n",
        "\n",
        "if expr:\n",
        "\n",
        "body\n",
        "\n",
        "**expr** is a conditional expression that evaluates whether it is true or false.\n",
        "**body** are commands that will be executed when the condition is true."
      ],
      "metadata": {
        "id": "LVUDKI8wZA9E"
      }
    },
    {
      "cell_type": "code",
      "source": [
        "x = 20\n",
        "if x > 11:\n",
        "  print ('No')"
      ],
      "metadata": {
        "colab": {
          "base_uri": "https://localhost:8080/"
        },
        "id": "-2IRCn1inENQ",
        "outputId": "fe01db93-3099-42a4-8591-dc31c363c56a"
      },
      "execution_count": 4,
      "outputs": [
        {
          "output_type": "stream",
          "name": "stdout",
          "text": [
            "No\n"
          ]
        }
      ]
    },
    {
      "cell_type": "markdown",
      "source": [
        "If the condition is true, the if statement is executed, otherwise the else statement is executed"
      ],
      "metadata": {
        "id": "5xhrlosXoF1s"
      }
    },
    {
      "cell_type": "code",
      "source": [
        "x = 10\n",
        "if x > 11:\n",
        "  print ('No')\n",
        "else:\n",
        "  print ('yes')"
      ],
      "metadata": {
        "colab": {
          "base_uri": "https://localhost:8080/"
        },
        "id": "blWzhmjQnUAN",
        "outputId": "d161f9b0-30ce-422d-8e11-be2524097014"
      },
      "execution_count": 5,
      "outputs": [
        {
          "output_type": "stream",
          "name": "stdout",
          "text": [
            "yes\n"
          ]
        }
      ]
    },
    {
      "cell_type": "markdown",
      "source": [
        "The elif command allows you to evaluate multiple expressions and execute a block of code as soon as one of the conditions evaluates to True."
      ],
      "metadata": {
        "id": "GG5XlfQdpBnR"
      }
    },
    {
      "cell_type": "code",
      "source": [
        "x = 10\n",
        "if x > 11:\n",
        "  print ('x > 11')\n",
        "elif (x == 10):\n",
        "  print ('x == 10')\n",
        "else:\n",
        "  print ('x < 10')"
      ],
      "metadata": {
        "colab": {
          "base_uri": "https://localhost:8080/"
        },
        "id": "eF0DMn2BpCbt",
        "outputId": "ce13dd7a-a876-40e8-abf3-557cc3114b77"
      },
      "execution_count": 6,
      "outputs": [
        {
          "output_type": "stream",
          "name": "stdout",
          "text": [
            "x == 10\n"
          ]
        }
      ]
    },
    {
      "cell_type": "code",
      "source": [
        "# Single line if statement in Python\n",
        "# some_expression if condition else other_expression\n",
        "age = 20\n",
        "\"Minor\" if age < 18 else \"Adult\""
      ],
      "metadata": {
        "colab": {
          "base_uri": "https://localhost:8080/",
          "height": 36
        },
        "id": "WsxrMk9yqAx9",
        "outputId": "6d2953a2-795d-41bd-f4df-e41aa1e0881c"
      },
      "execution_count": 7,
      "outputs": [
        {
          "output_type": "execute_result",
          "data": {
            "text/plain": [
              "'Adult'"
            ],
            "application/vnd.google.colaboratory.intrinsic+json": {
              "type": "string"
            }
          },
          "metadata": {},
          "execution_count": 7
        }
      ]
    },
    {
      "cell_type": "code",
      "source": [
        "age = 12\n",
        "\"Minor\" if age < 18 else \"Adult\""
      ],
      "metadata": {
        "colab": {
          "base_uri": "https://localhost:8080/",
          "height": 36
        },
        "id": "STMK2kM5qJYo",
        "outputId": "6ae9a7a5-250c-4a12-e056-564917172f12"
      },
      "execution_count": 8,
      "outputs": [
        {
          "output_type": "execute_result",
          "data": {
            "text/plain": [
              "'Minor'"
            ],
            "application/vnd.google.colaboratory.intrinsic+json": {
              "type": "string"
            }
          },
          "metadata": {},
          "execution_count": 8
        }
      ]
    }
  ]
}